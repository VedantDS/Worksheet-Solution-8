{
 "cells": [
  {
   "cell_type": "markdown",
   "id": "handled-criminal",
   "metadata": {},
   "source": [
    "### 11. Write a python program to find the factorial of a number."
   ]
  },
  {
   "cell_type": "code",
   "execution_count": 31,
   "id": "ceramic-norman",
   "metadata": {},
   "outputs": [],
   "source": [
    "# defining factorial function \n",
    "def factorial(num):\n",
    "    if (num==1 or num==0): # checking if number is 1 or 0\n",
    "        return 1\n",
    "    elif num > 1: # if number is greater than 1\n",
    "        return (num*factorial(num-1)) # using recursion to implement factorial\n",
    "    else:\n",
    "        print(f'Factorial of {num} is not real')"
   ]
  },
  {
   "cell_type": "code",
   "execution_count": 34,
   "id": "portuguese-motel",
   "metadata": {},
   "outputs": [
    {
     "data": {
      "text/plain": [
       "720"
      ]
     },
     "execution_count": 34,
     "metadata": {},
     "output_type": "execute_result"
    }
   ],
   "source": [
    "# calculating factorial of 6\n",
    "factorial(6)"
   ]
  },
  {
   "cell_type": "markdown",
   "id": "helpful-medication",
   "metadata": {},
   "source": [
    "### 12. Write a python program to find whether a number is prime or composite."
   ]
  },
  {
   "cell_type": "code",
   "execution_count": 35,
   "id": "stopped-embassy",
   "metadata": {},
   "outputs": [],
   "source": [
    "# defining check_prime function \n",
    "def check_prime(num):\n",
    "    if num>1: # if number greater than 1\n",
    "        for i in range(2, num): # iterate from 2 to given number\n",
    "            if (num%i == 0): # if remainder is equal to zero\n",
    "                return print(f'{num} is composite number') \n",
    "                break\n",
    "        else:\n",
    "            return print(f'{num} is prime number') \n",
    "    else:\n",
    "        return print(f'{num} is not a prime number')   "
   ]
  },
  {
   "cell_type": "code",
   "execution_count": 37,
   "id": "brazilian-billion",
   "metadata": {},
   "outputs": [
    {
     "name": "stdout",
     "output_type": "stream",
     "text": [
      "41 is prime number\n"
     ]
    }
   ],
   "source": [
    "# checking if given number is prime\n",
    "check_prime(41)"
   ]
  },
  {
   "cell_type": "markdown",
   "id": "tropical-airline",
   "metadata": {},
   "source": [
    "### 13. Write a python program to check whether a given string is palindrome or not."
   ]
  },
  {
   "cell_type": "code",
   "execution_count": 39,
   "id": "neutral-friday",
   "metadata": {},
   "outputs": [],
   "source": [
    "# defining check_palindrome function\n",
    "def check_palindrome(str):\n",
    "    if str == str[::-1]: # checking whether the given string and reverse of that are equal \n",
    "        return print(f'String {str} is palindrome')\n",
    "    else:\n",
    "        return print(f'String {str} is not a palindrome')  "
   ]
  },
  {
   "cell_type": "code",
   "execution_count": 40,
   "id": "loving-relevance",
   "metadata": {},
   "outputs": [
    {
     "name": "stdout",
     "output_type": "stream",
     "text": [
      "String reviver is palindrome\n"
     ]
    }
   ],
   "source": [
    "# checking if the given dtring is palindrome\n",
    "check_palindrome('reviver')"
   ]
  },
  {
   "cell_type": "markdown",
   "id": "talented-apartment",
   "metadata": {},
   "source": [
    "### 14. Write a Python program to get the third side of right-angled triangle from two given sides."
   ]
  },
  {
   "cell_type": "code",
   "execution_count": 42,
   "id": "induced-cabin",
   "metadata": {},
   "outputs": [],
   "source": [
    "# defining get_side3 function\n",
    "def get_side3(side1, side2,find_hyptenuse = True):\n",
    "    if find_hyptenuse: # if hypotenuse of a right-angled triangle to be calculated\n",
    "        return (side1**2 +side2**2)**(0.5)\n",
    "    else:\n",
    "        return abs(side1**2-side2**2)**(0.5)"
   ]
  },
  {
   "cell_type": "code",
   "execution_count": 43,
   "id": "protected-phase",
   "metadata": {},
   "outputs": [
    {
     "data": {
      "text/plain": [
       "5.0"
      ]
     },
     "execution_count": 43,
     "metadata": {},
     "output_type": "execute_result"
    }
   ],
   "source": [
    "# calculating hypotenuse of a right-angled trianle\n",
    "get_side3(4,3)"
   ]
  },
  {
   "cell_type": "markdown",
   "id": "sustainable-cable",
   "metadata": {},
   "source": [
    "### 15. Write a python program to print the frequency of each of the characters present in a given string."
   ]
  },
  {
   "cell_type": "code",
   "execution_count": 45,
   "id": "protecting-meditation",
   "metadata": {},
   "outputs": [],
   "source": [
    "# defining str_freq function\n",
    "def char_freq(str):\n",
    "    d = {}\n",
    "    for i in str: # iterate over the given string\n",
    "        if i in d: # if the character of that string is dictionary key\n",
    "            d[i] = d[i] +1 # increase by 1\n",
    "        else:\n",
    "            d[i] = 1\n",
    "    for i in d:\n",
    "        print(f'Frequency of {i} :',d[i])"
   ]
  },
  {
   "cell_type": "code",
   "execution_count": 48,
   "id": "attached-sixth",
   "metadata": {},
   "outputs": [
    {
     "name": "stdout",
     "output_type": "stream",
     "text": [
      "Frequency of D : 1\n",
      "Frequency of a : 2\n",
      "Frequency of t : 1\n"
     ]
    }
   ],
   "source": [
    "# calculation frequency of characters in a string\n",
    "char_freq('Data')"
   ]
  }
 ],
 "metadata": {
  "kernelspec": {
   "display_name": "Python 3",
   "language": "python",
   "name": "python3"
  },
  "language_info": {
   "codemirror_mode": {
    "name": "ipython",
    "version": 3
   },
   "file_extension": ".py",
   "mimetype": "text/x-python",
   "name": "python",
   "nbconvert_exporter": "python",
   "pygments_lexer": "ipython3",
   "version": "3.7.9"
  }
 },
 "nbformat": 4,
 "nbformat_minor": 5
}
